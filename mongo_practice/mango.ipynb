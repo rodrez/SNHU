{
 "cells": [
  {
   "cell_type": "code",
   "execution_count": 2,
   "metadata": {},
   "outputs": [],
   "source": [
    "from pymongo import MongoClient\n",
    "# from bson.objectid import ObjectId\n",
    "\n",
    "class AnimalShelter(object):\n",
    "    \"\"\" CRUD operations for Animal collection in MongoDB \"\"\"\n",
    "\n",
    "    def __init__(self):\n",
    "        # Initializing the MongoClient. This helps to \n",
    "        # access the MongoDB databases and collections. \n",
    "        self.username = 'user'\n",
    "        self.password = 'password'\n",
    "        self.port = 'xxxxx'\n",
    "        self.host = 'localhost'\n",
    "        self.db_name = 'project'\n",
    "        self.client = MongoClient(f'mongodb://{self.username}:{self.password}@{self.host}:{self.port}/')\n",
    "        self.database = self.client[self.db_name]\n",
    "\n",
    "        print(\"Connected to MongoDB\")\n",
    "\n",
    "    # Complete this create method to implement the C in CRUD.\n",
    "    def create(self, data):\n",
    "        \"\"\" Create a new animal in the database \"\"\"\n",
    "        if data is not None:\n",
    "            self.database.animals.insert(data)  # data should be dictionary            \n",
    "        elif data is None:\n",
    "            raise Exception(\"Nothing to save, because data parameter is empty\")\n",
    "        else:\n",
    "            raise Exception(\"Data parameter is not a dictionary\")\n",
    "\n",
    "    # Important: Be sure to use find() instead of find_one() when developing your method. \n",
    "    def read(self, data):\n",
    "        \"\"\" Read an animal from the database \"\"\"\n",
    "        # Ensure data is not empty and is a dictionary\n",
    "        if data is not None and type(data) is dict:\n",
    "            # Return the result of the find query\n",
    "            return self.database.animals.find(data)\n",
    "        elif data is None:\n",
    "            raise Exception(\"Nothing to read, because data parameter is empty\")\n",
    "        else:\n",
    "            raise Exception(\"Data parameter is not a dictionary\")"
   ]
  },
  {
   "cell_type": "code",
   "execution_count": 2,
   "outputs": [],
   "source": [],
   "metadata": {
    "collapsed": false
   }
  }
 ],
 "metadata": {
  "kernelspec": {
   "display_name": "Python 3",
   "language": "python",
   "name": "python3"
  },
  "language_info": {
   "name": "python",
   "version": "3.11.0b3 (v3.11.0b3:eb0004c271, Jun  1 2022, 10:03:01) [Clang 13.0.0 (clang-1300.0.29.30)]"
  },
  "orig_nbformat": 4,
  "vscode": {
   "interpreter": {
    "hash": "aee8b7b246df8f9039afb4144a1f6fd8d2ca17a180786b69acc140d282b71a49"
   }
  }
 },
 "nbformat": 4,
 "nbformat_minor": 2
}
